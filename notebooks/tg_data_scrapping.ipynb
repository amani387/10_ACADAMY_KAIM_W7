{
 "cells": [
  {
   "cell_type": "code",
   "execution_count": null,
   "metadata": {
    "vscode": {
     "languageId": "plaintext"
    }
   },
   "outputs": [],
   "source": [
    "from pyrogram import Client\n",
    "import pandas as pd\n",
    "from datetime import datetime\n",
    "import asyncio\n",
    "\n",
    "# Telegram API credentials\n",
    "api_id = 23446573  # Replace with your API ID\n",
    "api_hash = 'd434e5f0dc2e1e7f07a9f61d7f3a72c4'  # Replace with your API Hash\n",
    "\n",
    "# Initialize Pyrogram Client\n",
    "app = Client(\"my_account\", api_id=api_id, api_hash=api_hash)\n",
    "\n",
    "async def fetch_messages_async(channel_name, limit=100):\n",
    "    \"\"\"\n",
    "    Asynchronous function to fetch messages from a Telegram channel.\n",
    "    :param channel_name: The name or URL of the Telegram channel.\n",
    "    :param limit: Number of messages to fetch.\n",
    "    :return: List of messages.\n",
    "    \"\"\"\n",
    "    messages = []\n",
    "    async with app:\n",
    "        async for message in app.get_chat_history(chat_id=channel_name, limit=limit):\n",
    "            if message.text:\n",
    "                messages.append({\n",
    "                    \"sender\": message.from_user.username if message.from_user else \"Unknown\",\n",
    "                    \"text\": message.text,\n",
    "                    \"timestamp\": message.date.strftime('%Y-%m-%d %H:%M:%S')\n",
    "                })\n",
    "    return messages\n",
    "\n",
    "def fetch_messages(channel_name, limit=100):\n",
    "    \"\"\"\n",
    "    Wrapper to run the asynchronous fetch function.\n",
    "    :param channel_name: The name or URL of the Telegram channel.\n",
    "    :param limit: Number of messages to fetch.\n",
    "    :return: List of messages.\n",
    "    \"\"\"\n",
    "    return asyncio.run(fetch_messages_async(channel_name, limit))\n",
    "\n",
    "def save_to_csv(data, filename):\n",
    "    \"\"\"\n",
    "    Save messages to a CSV file.\n",
    "    :param data: List of messages.\n",
    "    :param filename: File to save the data.\n",
    "    \"\"\"\n",
    "    if data:\n",
    "        df = pd.DataFrame(data)\n",
    "        df.to_csv(filename, index=False)\n",
    "        print(f\"Data saved to {filename}\")\n",
    "    else:\n",
    "        print(\"No data to save.\")\n",
    "\n",
    "if __name__ == \"__main__\":\n",
    "    # Channel to scrape messages from\n",
    "    channel = \"@qnashcom\"  # Replace with your channel\n",
    "\n",
    "    # Fetch and save messages\n",
    "    print(\"Fetching messages...\")\n",
    "    messages = fetch_messages(channel, limit=500)\n",
    "    timestamp = datetime.now().strftime('%Y%m%d_%H%M%S')\n",
    "    save_to_csv(messages, f'telegram_messages_{timestamp}.csv')\n"
   ]
  }
 ],
 "metadata": {
  "language_info": {
   "name": "python"
  }
 },
 "nbformat": 4,
 "nbformat_minor": 2
}
