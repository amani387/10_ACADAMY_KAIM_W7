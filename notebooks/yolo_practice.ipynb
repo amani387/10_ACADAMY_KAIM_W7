{
 "cells": [
  {
   "cell_type": "code",
   "execution_count": 2,
   "metadata": {},
   "outputs": [
    {
     "name": "stdout",
     "output_type": "stream",
     "text": [
      "print hello worldee\n"
     ]
    }
   ],
   "source": [
    "print(\"print hello worldee\")"
   ]
  },
  {
   "cell_type": "code",
   "execution_count": null,
   "metadata": {},
   "outputs": [],
   "source": [
    "pip install opencv-python torch torchvision numpy"
   ]
  },
  {
   "cell_type": "code",
   "execution_count": null,
   "metadata": {},
   "outputs": [],
   "source": [
    "git clone https://github.com/ultralytics/yolov5.git"
   ]
  },
  {
   "cell_type": "code",
   "execution_count": null,
   "metadata": {},
   "outputs": [],
   "source": [
    "cd yolov5"
   ]
  },
  {
   "cell_type": "code",
   "execution_count": null,
   "metadata": {},
   "outputs": [],
   "source": [
    "\n",
    "pip install -r requirements.txt"
   ]
  },
  {
   "cell_type": "code",
   "execution_count": null,
   "metadata": {},
   "outputs": [],
   "source": [
    "from telethon.sync import TelegramClient\n",
    "import os\n",
    "\n",
    "api_id = \"YOUR_API_ID\"\n",
    "api_hash = \"YOUR_API_HASH\"\n",
    "channel_username = \"t.me/lobelia4cosmetics\"\n",
    "save_path = \"images/\"\n",
    "\n",
    "client = TelegramClient(\"session_name\", api_id, api_hash)\n",
    "\n",
    "async def download_images():\n",
    "    await client.start()\n",
    "    async for message in client.iter_messages(channel_username):\n",
    "        if message.photo:\n",
    "            file_path = await message.download_media(save_path)\n",
    "            print(f\"Downloaded: {file_path}\")\n",
    "\n",
    "with client:\n",
    "    client.loop.run_until_complete(download_images())\n"
   ]
  },
  {
   "cell_type": "code",
   "execution_count": null,
   "metadata": {},
   "outputs": [],
   "source": [
    "import torch\n",
    "import cv2\n",
    "import os\n",
    "from pathlib import Path\n",
    "\n",
    "# Load YOLO model\n",
    "model = torch.hub.load(\"ultralytics/yolov5\", \"yolov5s\", pretrained=True)\n",
    "\n",
    "# Define the path to images\n",
    "image_folder = \"images/\"\n",
    "\n",
    "# Loop through images and perform detection\n",
    "for img_path in Path(image_folder).glob(\"*.jpg\"):\n",
    "    img = cv2.imread(str(img_path))\n",
    "\n",
    "    # Run inference\n",
    "    results = model(img)\n",
    "\n",
    "    # Show results\n",
    "    results.show()\n",
    "\n",
    "    # Save detection results\n",
    "    results.save(save_dir=\"detections/\")\n"
   ]
  }
 ],
 "metadata": {
  "kernelspec": {
   "display_name": "venv",
   "language": "python",
   "name": "python3"
  },
  "language_info": {
   "codemirror_mode": {
    "name": "ipython",
    "version": 3
   },
   "file_extension": ".py",
   "mimetype": "text/x-python",
   "name": "python",
   "nbconvert_exporter": "python",
   "pygments_lexer": "ipython3",
   "version": "3.12.0"
  }
 },
 "nbformat": 4,
 "nbformat_minor": 2
}
